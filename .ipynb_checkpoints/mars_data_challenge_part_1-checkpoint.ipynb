{
 "cells": [
  {
   "cell_type": "code",
   "execution_count": 1,
   "id": "97985adc",
   "metadata": {},
   "outputs": [],
   "source": [
    "#Dependencies\n",
    "import os\n",
    "import requests\n",
    "import pandas as pd\n",
    "\n",
    "from bs4 import BeautifulSoup as ba\n",
    "from splinter import Browser\n",
    "from webdriver_manager.chrome import ChromeDriverManager"
   ]
  },
  {
   "cell_type": "code",
   "execution_count": 2,
   "id": "edbf7ab6",
   "metadata": {},
   "outputs": [],
   "source": [
    "executable_path = {'executable_path': ChromeDriverManager().install()}\n",
    "browser = Browser('chrome', **executable_path, headless=False)"
   ]
  },
  {
   "cell_type": "code",
   "execution_count": 3,
   "id": "eb71ca53",
   "metadata": {},
   "outputs": [],
   "source": [
    "url=\"https://redplanetscience.com/\"\n",
    "browser.visit(url)"
   ]
  },
  {
   "cell_type": "code",
   "execution_count": 4,
   "id": "0d2f5cfc",
   "metadata": {},
   "outputs": [],
   "source": [
    "#Parase HTML with BeatufiulSoup\n",
    "soup = ba(browser.html, 'html.parser')"
   ]
  },
  {
   "cell_type": "code",
   "execution_count": 80,
   "id": "3f7ec730",
   "metadata": {},
   "outputs": [],
   "source": [
    "elist = []\n",
    "ltext = soup.find_all('div', class_='list_text')\n",
    "\n",
    "for i in ltext:\n",
    "    #Iterate through each article\n",
    "    title = i.find('div', class_='content_title').text\n",
    "    preview = i.find('div', class_='article_teaser_body').text\n",
    "    article_dict={'title': title, 'preview': preview}\n",
    "    elist.append(article_dict)"
   ]
  },
  {
   "cell_type": "code",
   "execution_count": 81,
   "id": "6b8dbd6a",
   "metadata": {},
   "outputs": [
    {
     "data": {
      "text/plain": [
       "[{'title': 'Mars 2020 Unwrapped and Ready for More Testing',\n",
       "  'preview': \"In time-lapse video, bunny-suited engineers remove the inner layer of protective foil on NASA's Mars 2020 rover after it was relocated for testing.\"},\n",
       " {'title': 'Two of a Space Kind: Apollo 12 and Mars 2020',\n",
       "  'preview': 'Apollo 12 and the upcoming Mars 2020 mission may be separated by half a century, but they share several goals unique in the annals of space exploration.'},\n",
       " {'title': \"NASA's Perseverance Rover Will Look at Mars Through These 'Eyes'\",\n",
       "  'preview': 'A pair of zoomable cameras will help scientists and rover drivers with high-resolution color images.'},\n",
       " {'title': \"NASA's Curiosity Mars Rover Takes a New Selfie Before Record Climb\",\n",
       "  'preview': 'Along with capturing an image before its steepest ascent ever, the robotic explorer filmed its \"selfie stick,\" or robotic arm, in action.'},\n",
       " {'title': 'Scientists Explore Outback as Testbed for Mars ',\n",
       "  'preview': \"Australia provides a great place for NASA's Mars 2020 and the ESA-Roscosmos ExoMars scientists to hone techniques in preparation for searching for signs ancient life on Mars.\"},\n",
       " {'title': \"NASA's Ingenuity Mars Helicopter Recharges Its Batteries in Flight\",\n",
       "  'preview': 'Headed to the Red Planet with the Perseverance rover, the pioneering helicopter is powered up for the first time in interplanetary space as part of a systems check.'},\n",
       " {'title': \"3 Things We've Learned From NASA's Mars InSight \",\n",
       "  'preview': 'Scientists are finding new mysteries since the geophysics mission landed two years ago.'},\n",
       " {'title': \"NASA's Curiosity Mars Rover Snaps Its Highest-Resolution Panorama Yet\",\n",
       "  'preview': 'To go along with the stunning 1.8-billion-pixel image, a new video offers a sweeping view of the Red Planet.'},\n",
       " {'title': \"While Stargazing on Mars, NASA's Curiosity Rover Spots Earth and Venus\",\n",
       "  'preview': \"This new portrait of the Red Planet's neighbors was taken during a time when there's more dust in the air on Mars.\"},\n",
       " {'title': 'MOXIE Could Help Future Rockets Launch Off Mars',\n",
       "  'preview': \"NASA's Perseverance rover carries a device to convert Martian air into oxygen that, if produced on a larger scale, could be used not just for breathing, but also for fuel.\"},\n",
       " {'title': \"NASA Engineers Checking InSight's Weather Sensors\",\n",
       "  'preview': 'An electronics issue is suspected to be preventing the sensors from sharing their data about Mars weather with the spacecraft.'},\n",
       " {'title': 'Mars Scientists Investigate Ancient Life in Australia',\n",
       "  'preview': \"Teams with NASA's Mars 2020 and ESA's ExoMars practiced hunting for fossilized microbial life in the Australian Outback in preparation for their Red Planet missions. \"},\n",
       " {'title': \"How NASA's Mars Helicopter Will Reach the Red Planet's Surface\",\n",
       "  'preview': 'The small craft will seek to prove that powered, controlled flight is possible on another planet. But just getting it onto the surface of Mars will take a whole lot of ingenuity.'},\n",
       " {'title': \"NASA's Mars 2020 Rover Closer to Getting Its Name\",\n",
       "  'preview': \"155 students from across the U.S. have been chosen as semifinalists in NASA's essay contest to name the Mars 2020 rover, and see it launch from Cape Canaveral this July.\"},\n",
       " {'title': \"NASA's Perseverance Rover Will Peer Beneath Mars' Surface \",\n",
       "  'preview': \"The agency's newest rover will use the first ground-penetrating radar instrument on the Martian surface to help search for signs of past microbial life. \"}]"
      ]
     },
     "execution_count": 81,
     "metadata": {},
     "output_type": "execute_result"
    }
   ],
   "source": [
    "elist"
   ]
  },
  {
   "cell_type": "code",
   "execution_count": null,
   "id": "130e8a47",
   "metadata": {},
   "outputs": [],
   "source": []
  }
 ],
 "metadata": {
  "kernelspec": {
   "display_name": "Python 3 (ipykernel)",
   "language": "python",
   "name": "python3"
  },
  "language_info": {
   "codemirror_mode": {
    "name": "ipython",
    "version": 3
   },
   "file_extension": ".py",
   "mimetype": "text/x-python",
   "name": "python",
   "nbconvert_exporter": "python",
   "pygments_lexer": "ipython3",
   "version": "3.9.12"
  }
 },
 "nbformat": 4,
 "nbformat_minor": 5
}
